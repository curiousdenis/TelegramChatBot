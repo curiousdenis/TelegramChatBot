{
 "cells": [
  {
   "cell_type": "code",
   "execution_count": 1,
   "id": "8ea46173",
   "metadata": {},
   "outputs": [],
   "source": [
    "import telebot, wikipedia, re\n",
    "from sklearn.feature_extraction.text import CountVectorizer\n",
    "from sklearn.linear_model import LogisticRegression"
   ]
  },
  {
   "cell_type": "code",
   "execution_count": 2,
   "id": "ed3c74da",
   "metadata": {},
   "outputs": [],
   "source": [
    "wikipedia.set_lang(\"en\")\n",
    "token = \"My token\"\n",
    "bot = telebot.TeleBot(token)"
   ]
  },
  {
   "cell_type": "code",
   "execution_count": 3,
   "id": "3d62511e",
   "metadata": {},
   "outputs": [],
   "source": [
    "# here is a function to clean an input string. It will make string lower, then It will itterate through the input to look for \n",
    "# not \"alphabet\" letters, digits, special signs, If the letter is not in the alphabet list do not print it.\n",
    "alphabet = ' 1234567890-йцукенгшщзхъфывапролджэячсмитьбюёqwertyuiopasdfghjklzxcvbnm?%.,()!:;'\n",
    "def clean_string(input):\n",
    "    input = [letter.lower() for letter in input if letter.lower() in alphabet]\n",
    "    return ''.join(input)"
   ]
  },
  {
   "cell_type": "code",
   "execution_count": 4,
   "id": "affb8a6b",
   "metadata": {},
   "outputs": [],
   "source": [
    "def ML():\n",
    "    with open('dialogues.txt') as f:\n",
    "        content = f.read()\n",
    "    blocks = content.split('\\n')\n",
    "    dataset =[]\n",
    "    for block in blocks:\n",
    "        block_clean = block.split('\\\\')\n",
    "        pair = [clean_string(block_clean[0]), clean_string(block_clean[1])]\n",
    "        if pair[0] and pair[1]:\n",
    "            dataset.append(pair)\n",
    "   \n",
    "\n",
    "    X_test = []\n",
    "    Y_test = []\n",
    "    for questions, answers in dataset[:100]:\n",
    "        X_test.append(questions)\n",
    "        Y_test.append(answers)\n",
    "    \n",
    "    # here we represent X_test essentially as an array of 1 and 0 \n",
    "    global vectorizer\n",
    "    vectorizer = CountVectorizer()\n",
    "    X_test = vectorizer.fit_transform(X_test).toarray()\n",
    "    \n",
    "    # here we implemented ML classification regression \n",
    "    global clf\n",
    "    clf = LogisticRegression()\n",
    "    clf.fit(X_test, Y_test)"
   ]
  },
  {
   "cell_type": "code",
   "execution_count": 5,
   "id": "fc3fa8cd",
   "metadata": {},
   "outputs": [],
   "source": [
    "def prediction(input):\n",
    "    input_text = vectorizer.transform([input]).toarray()[0]\n",
    "    prediction = clf.predict([input_text])[0]\n",
    "    return prediction"
   ]
  },
  {
   "cell_type": "code",
   "execution_count": 55,
   "id": "1dc97cbe",
   "metadata": {},
   "outputs": [],
   "source": [
    "def getwiki(q):\n",
    "    ny = wikipedia.page(q)\n",
    "    wikicontent = ny.content[:1000]\n",
    "    return wikicontent "
   ]
  },
  {
   "cell_type": "code",
   "execution_count": 83,
   "id": "714b321b",
   "metadata": {},
   "outputs": [],
   "source": []
  }
 ],
 "metadata": {
  "kernelspec": {
   "display_name": "Python 3 (ipykernel)",
   "language": "python",
   "name": "python3"
  },
  "language_info": {
   "codemirror_mode": {
    "name": "ipython",
    "version": 3
   },
   "file_extension": ".py",
   "mimetype": "text/x-python",
   "name": "python",
   "nbconvert_exporter": "python",
   "pygments_lexer": "ipython3",
   "version": "3.9.7"
  }
 },
 "nbformat": 4,
 "nbformat_minor": 5
}
